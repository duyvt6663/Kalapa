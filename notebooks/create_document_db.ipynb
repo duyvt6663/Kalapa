{
 "cells": [
  {
   "cell_type": "code",
   "execution_count": 8,
   "metadata": {},
   "outputs": [],
   "source": [
    "import os\n",
    "os.environ['TF_CPP_MIN_LOG_LEVEL'] = '3' \n",
    "\n",
    "import json\n",
    "\n",
    "from torch import cuda\n",
    "from pyvi.ViTokenizer import tokenize\n",
    "from langchain.embeddings.huggingface import HuggingFaceEmbeddings\n",
    "\n",
    "# embed_model_id = 'sentence-transformers/all-MiniLM-L6-v2'\n",
    "embed_model_id = 'all-MiniLM-L6-v2'\n",
    "\n",
    "device = f'cuda:{cuda.current_device()}' if cuda.is_available() else 'cpu'\n",
    "# device = 'cpu'\n",
    "cache_dir = \"../cache/\"\n",
    "\n",
    "DB_SAVE_NAME = f\"endoc_{embed_model_id.split('/')[-1].replace('.','-')}\"\n",
    "DOCUMENT_DIR = \"../datasets/KALAPA_ByteBattles_2023_MEDICAL_Set1/processed/\""
   ]
  },
  {
   "cell_type": "markdown",
   "metadata": {},
   "source": [
    "## Retriever"
   ]
  },
  {
   "cell_type": "code",
   "execution_count": 2,
   "metadata": {},
   "outputs": [
    {
     "name": "stdout",
     "output_type": "stream",
     "text": [
      "We have 2 doc embeddings, each with a dimensionality of 384.\n"
     ]
    }
   ],
   "source": [
    "embed_model = HuggingFaceEmbeddings(\n",
    "    model_name=embed_model_id,\n",
    "    model_kwargs={'device': device},\n",
    "    encode_kwargs={'batch_size': 32, \"normalize_embeddings\": True, \"device\": device},\n",
    "    cache_folder=cache_dir\n",
    ")\n",
    "\n",
    "docs = [\n",
    "    \"this is one document\",\n",
    "    \"and another document\"\n",
    "]\n",
    "\n",
    "embeddings = embed_model.embed_documents(docs)\n",
    "\n",
    "print(\n",
    "    f\"We have {len(embeddings)} doc embeddings, each with \"\n",
    "    f\"a dimensionality of {len(embeddings[0])}.\"\n",
    ")"
   ]
  },
  {
   "cell_type": "code",
   "execution_count": 3,
   "metadata": {},
   "outputs": [],
   "source": [
    "from langchain.schema import Document\n",
    "from langchain.vectorstores import FAISS\n",
    "from langchain.embeddings.sentence_transformer import SentenceTransformerEmbeddings\n",
    "\n",
    "faiss_docs = []\n",
    "for filename in sorted(os.listdir(DOCUMENT_DIR)):\n",
    "    filepath = os.path.join(DOCUMENT_DIR, filename)\n",
    "    with open(filepath, \"r\", encoding=\"utf-8\") as f:\n",
    "        file_data = json.load(f)\n",
    "        \n",
    "        faiss_docs.append(Document(\n",
    "            page_content=file_data[\"content\"],\n",
    "            metadata={\"filename\": filename, \"path\": filepath, \"title\": file_data[\"title\"], \"category\": file_data[\"category\"], \"abstract\": file_data[\"abstract\"], \"subsections\": file_data[\"subsections\"]}\n",
    "        ))\n",
    "\n",
    "embed_model = HuggingFaceEmbeddings(\n",
    "    model_name=embed_model_id,\n",
    "    model_kwargs={'device': device},\n",
    "    encode_kwargs={'batch_size': 32, \"normalize_embeddings\": True, \"device\": device },\n",
    "    cache_folder=cache_dir\n",
    ")\n",
    "\n",
    "db = FAISS.from_documents(\n",
    "    documents=faiss_docs,\n",
    "    embedding=embed_model,\n",
    ")"
   ]
  },
  {
   "cell_type": "code",
   "execution_count": 9,
   "metadata": {},
   "outputs": [],
   "source": [
    "db.save_local(DB_SAVE_NAME)"
   ]
  },
  {
   "cell_type": "code",
   "execution_count": 5,
   "metadata": {},
   "outputs": [],
   "source": [
    "from langchain.vectorstores import FAISS\n",
    "from langchain.embeddings.sentence_transformer import SentenceTransformerEmbeddings\n",
    "\n",
    "device = 'cpu'\n",
    "embed_model = SentenceTransformerEmbeddings(\n",
    "    model_name=embed_model_id,\n",
    "    model_kwargs={'device': device},\n",
    "    encode_kwargs={'batch_size': 32, \"normalize_embeddings\": True, \"device\": device },\n",
    "    cache_folder=cache_dir\n",
    ")\n",
    "\n",
    "loaded_db = FAISS.load_local(\n",
    "    DB_SAVE_NAME,\n",
    "    embeddings=embed_model\n",
    ")"
   ]
  },
  {
   "cell_type": "code",
   "execution_count": 6,
   "metadata": {},
   "outputs": [
    {
     "data": {
      "text/plain": [
       "[Document(page_content='Bệnh mạch vành: Nguyên nhân, dấu hiệu và cách điều trị\\n\\nBệnh mạch vành là dạng bệnh tim mạch phổ biến nhất ở người lớn, là một trong những nguyên nhân gây tử vong hàng đầu trên thế giới. Tại Việt Nam, tỷ lệ bệnh nhân tử vong do suy mạch vành khá cao, chiếm từ 11% – 36% và đang có dấu hiệu tăng dần mỗi năm. Bài viết được tư vấn chuyên môn bởi PGS.TS.BS Phạm Nguyễn Vinh, Giám đốc Trung tâm Tim mạch, Bệnh viện Đa khoa Tâm Anh TP.HCM\\nĐau thắt ngực, khó thở là biểu hiện dễ nhận thấy nhất của bệnh mạch vành\\n\\nBệnh mạch vành là gì?\\nBệnh mạch vành hay suy mạch vành là tình trạng các mạch máu chính cung cấp máu cho tim bị hẹp hoặc tắc nghẽn do mảng xơ vữa, khiến lưu lượng máu đến tim giảm đi. (1)\\nBệnh có 2 thể là hội chứng động mạch vành cấp và bệnh động mạch vành mạn:\\nHội chứng động mạch vành cấp là tình trạng bao gồm cơn đau thắt ngực không ổn định và nhồi máu cơ tim cấp, xảy ra do mạch vành bị tắc nghẽn hoàn toàn, cấp tính do mảng xơ vữa bị nứt vỡ hoặc do huyết khối.; Ngược lại, bệnh mạch vành mạn thường xảy ra âm thầm và tiến triển trong nhiều thập kỷ. Triệu chứng của bệnh xuất hiện và tăng dần khi diễn tiến của hẹp mạch vành nặng lên theo thời gian.\\n\\nDấu hiệu bệnh mạch vành thường gặp\\nCơn đau thắt ngực hoặc khó thở khi gắng sức là dấu hiệu thường gặp nhất trong bệnh mạch vành. Người bệnh có cảm giác nặng, nghẹn, thắt, bóp nghẹt ở trong lồng ngực, thường bên ngực trái hoặc sau xương ức. Tình trạng này xảy ra khi gắng sức, đi bộ leo dốc, căng thẳng, stress, cơn đau kéo dài vài phút (3 – 5 phút), thường dưới 15 phút và hiếm khi xảy ra chỉ vài giây. Cơn đau thường lan lên cổ, hàm, hai vai, cánh tay trái hoặc lan sau lưng. Đặc biệt cơn đau giảm khi ngồi nghỉ hoặc ngậm thuốc nitrate.\\nNếu cơn đau kéo dài trên 15 phút, xảy ra lúc nghỉ là có khả năng đã bị nhồi máu cơ tim cấp, cần đến bệnh viện ngay để được điều trị tích cực sớm. (2)\\nNgoài ra còn có các dấu hiệu khác gợi ý suy mạch vành như:\\nKhó thở; Hụt hơi; Chóng mặt; Hồi hộp tim đập không đều,; Gần ngất; …\\n\\nNguyên nhân gây ra các bệnh lý về mạch vành\\nNguyên nhân thường gặp nhất của bệnh lý mạch vành là do mảng xơ vữa làm nghẽn lòng động mạch vành. Các yếu tố nguy cơ chính làm tăng xơ vữa động mạch gồm:\\nTình trạng cao huyết áp; Bệnh đái tháo đường; Rối loạn lipid máu; Hút thuốc lá\\nMột khi thành trong của động mạch vành bị tổn thương, các chất béo (mảng bám) hình thành từ cholesterol và các chất thải tế bào khác có xu hướng tích tụ tại vị trí bị tổn thương này. Quá trình này được gọi là xơ vữa động mạch. Nếu bề mặt mảng bám bị vỡ, các tế bào máu (gọi là tiểu cầu) sẽ kết tụ lại với nhau tại đây để cố gắng sửa chữa tổn thương, tạo thành cục huyết khối, gây bít hoàn toàn lòng mạch vành, dẫn đến nhồi máu cơ tim.(3)\\nCholesterol tích tụ tạo nên các mảng bám trong thành động mạch, gây tắc nghẽn và dẫn tới hẹp hoặc tắc mạch vành\\nNgoài ra, những người có các yếu tố dưới đây dễ tăng nguy cơ bị bệnh động mạch vành:\\nTuổi cao: càng lớn tuổi càng tăng nguy cơ bị xơ vữa động mạch và hẹp các động mạch.; Tiền sử gia đình mắc bệnh tim mạch sớm: trong gia đình có cha, anh em trai mắc bệnh trước 55 tuổi; hoặc mẹ hay chị em gái bạn có bệnh này trước 65 tuổi.; Thừa cân – béo phì: người có chỉ số BMI >23 sẽ tăng nguy cơ mắc các bệnh lý tim mạch chuyển hóa, trong đó có bệnh mạch vành.; Lối sống ít vận động: tăng nguy cơ mắc hội chứng chuyển hóa (tăng huyết áp, tăng đường huyết, béo bụng, rối loạn mỡ máu), tăng nguy cơ bị bệnh.; Thường xuyên stress: căng thẳng quá mức sẽ gây tổn hại cho động mạch,tăng quá trình viêm, tăng xơ vữa mạch máu, thúc đẩy bệnh tiến triển nhanh; Chế độ ăn uống không lành mạnh: ăn quá nhiều thực phẩm chứa chất béo, thịt mỡ, thức ăn chiên xào, thức ăn đóng hộp, nhiều muối và chất bột, đường sẽ làm tăng nguy cơ mắc bệnh tim mạch.; Chứng ngưng thở lúc ngủ: nồng độ oxy trong máu giảm đột ngột xảy ra khi ngưng thở lúc ngủ làm tăng huyết áp và gây stress trên hệ thống tim mạch, là yếu tố thuận lợi của bệnh lý mạch vành.; Một số bệnh nội khoa như suy thận mạn, bệnh tự miễn (viêm khớp dạng thấp, lupus ban đỏ, xơ cứng bì,..), rối loạn lipid máu gia đình,… cũng làm tăng cao nguy cơ mắc bệnh xơ vữa động mạch.\\n\\nPhương pháp chẩn đoán suy mạch vành\\nĐể chẩn đoán bệnh động mạch vành mạn bệnh nhân sẽ được bác sĩ hỏi bệnh sử, hỏi các yếu tố nguy cơ chính đưa đến bệnh mạch vành, khám lâm sàng, nghe tim phổi và kết hợp với các cận lâm sàng chuyên biệt giúp chẩn đoán xác định bệnh. (4)\\nCác cận lâm sàng cần làm để đánh giá và chẩn đoán bệnh mạch vành mạn gồm:\\nĐo điện tâm đồ chẩn đoán bệnh mạch vành; Chụp X-quang tim phổi; Siêu âm tim Doppler màu; Trắc nghiệm gắng sức: điện tâm đồ gắng sức (nếu bệnh nhân có thể chạy bộ được) hoặc siêu âm tim gắng sức bằng thuốc Dobutamine (cho người cao tuổi, không chạy bộ trên thảm lăn được); Chụp cắt lớp động mạch vành có cản quang: giúp kiểm tra mức độ tắc nghẽn và vôi hóa mạch vành.; Thông tim, chụp động mạch vành: thường được thực hiện khi nghiệm pháp gắng sức dương tính hoặc kết quả chụp CT mạch vành có hẹp hoặc khi bệnh nhân cần can thiệp mạch vành. Bác sĩ sẽ đưa một ống nhỏ vào trong mạch máu ở tay hay ở đùi, đẩy lên tim. Tiếp theo bác sĩ sẽ bơm thuốc cản quang để xem mạch máu nuôi tim có bị tắc nghẽn hay không. Đây là tiêu chuẩn vàng để chẩn đoán. Tuy nhiên, đây là phương pháp có xâm nhập vào người bệnh nhân nên được chỉ định chặt chẽ để giảm thiểu biến chứng.\\nChụp CT mạch vành có cản quang giúp chẩn đoán suy mạch vành\\n\\nBệnh mạch vành có nguy hiểm không?\\nBệnh động mạch vành có khả năng dẫn đến các biến chứng nguy hiểm như:\\nĐột tử: khoảng 30 % – 50% bệnh nhân nhồi máu cơ tim cấp bị đột tử trước khi đến bệnh viện.; Bệnh suy tim: do thiếu máu cục bộ cơ tim kéo dài hoặc sau nhồi máu cơ tim, làm tim to, co bóp kém, hở van tim.; Hở van tim nặng do đứt dây chằng van tim, sa lá van, dãn vòng van hay tâm thất trái co bóp bất thường. Cuối cùng làm cho tim ngày càng to ra và suy tim tiến triển nặng thêm.; Rối loạn nhịp tim: như blốc nhĩ thất (cần đặt máy tạo nhịp), rung nhĩ (dễ đưa đến nhồi máu não), ngoại tâm thu thất do sẹo cơ tim nhồi máu; nguy hiểm hơn là nhịp nhanh thất hoặc rung thất đưa đến đột tử.\\nXem thêm:\\xa0Bệnh mạch vành sống được bao lâu? Làm thế nào để sống chung với bệnh?\\n\\nPhương pháp điều trị bệnh mạch vành\\nĐiều trị các căn bệnh liên quan đến mạch vành bằng phương pháp nào phụ thuộc vào mức độ nặng nhẹ của bệnh. Tất cả các phương pháp điều trị đều nhằm mục tiêu tăng cường cung cấp máu cho tim, giảm triệu chứng và kéo dài đời sống người bệnh, bao gồm:\\nĐiều trị cơ bản trong tất cả các giai đoạn của bệnh là thay đổi lối sống và dùng thuốc.; Điều trị can thiệp gồm có nong, đặt stent mạch vành và mổ bắc cầu mạch vành\\n1. Thay đổi lối sống\\nNgười bệnh phải ngưng thuốc lá, tập thể dục đều đặn các ngày trong tuần, giảm cân nếu dư cân hay béo phì, chế độ ăn tốt cho tim mạch, giảm rượu bia.\\nNói “không” với thuốc lá để phòng ngừa và cải thiện các triệu chứng tim mạch\\n2. Điều trị bằng thuốc\\nCần uống thuốc đều đặn và lâu dài, trong đó thuốc chống kết tập tiểu cầu phải uống suốt đời, đặc biệt ở người đã có nhồi máu cơ tim, có đặt stent hay mổ bắc cầu mạch vành.\\nThuốc chống kết tập tiểu cầu: aspirin, clopidogrel, ticagrelor, prasugrel; Thuốc hạ mỡ máu, giảm xơ vữa động mạch: nhóm statin (atorvastatin, rosuvastatin, simvastatin, pravastatin,..); Điều trị các bệnh đi kèm như cao huyết áp, đái tháo đường; Thuốc chống đau thắt ngực: như chẹn beta, chẹn kênh calci, nitrate, nicorandil, ranolazine, trimetazidine,…\\n3. Can thiệp động mạch vành qua da và đặt stent\\nStent động mạch vành là những khung lưới kim loại nhỏ được đưa vào trong lòng mạch vành, nhằm mở rộng lòng mạch bị hẹp và giữ nó không hẹp lại.\\n4. Phẫu thuật bắc cầu động mạch vành\\nDùng một đoạn động hoặc tĩnh mạch làm cầu nối bắc qua vị trí mạch vành tổn thương, nối phía sau đoạn hẹp; như vậy máu sẽ được cung cấp cho vùng cơ tim bị thiếu máu sau chỗ hẹp thông qua cầu nối mới.\\nSau khi đặt stent hoặc mổ bắc cầu người bệnh cần uống thuốc đều đặn, thay đổi lối sống để tránh bị tái hẹp, tắc trong stent hay cầu nối mạch vành.\\nXem thêm:\\xa0Bệnh mạch vành có chữa khỏi được không? Phương pháp điều trị nào hiệu quả?\\n\\nCách phòng tránh bệnh mạch vành\\n1. Tuân thủ lối sống lành mạnh\\nĐây là biện pháp hữu hiệu nhất để phòng tránh các bệnh lý tim mạch, trong đó có bệnh mạch vành.\\nNgưng hút thuốc lá, tránh hút thuốc lá thụ động; Thể dục thường xuyên, tối thiểu 30 – 45 phút mỗi ngày, các ngày trong tuần. Có thể đi bộ, chạy bộ, chạy xe đạp, bơi lội, đánh cầu lông, bóng bàn, đánh golf, tập yoga, thể dục nhịp điệu, thiền,.. tùy theo tình trạng sức khỏe mỗi người; tránh căng thẳng trong cuộc sống và công việc.; Giảm cân nếu dư cân, béo phì (khi BMI >23): đặt mục tiêu giảm từ 5% đến 7% cân nặng trong vòng mỗi 6 tháng đến khi đạt cân nặng lý tưởng (BMI từ 18 – 22); Chế độ ăn tốt cho tim mạch:  Ăn ít chất béo, thịt mỡ, chất bột đường, thực phẩm đóng hộp, thức ăn nhanh, hạn chế muối, giảm rượu bia. Nên ăn cá, thịt gia cầm; nên ăn nhiều trái cây, rau, củ, quả, hạt, thực phẩm tươi sống, organic.; Ăn ít chất béo, thịt mỡ, chất bột đường, thực phẩm đóng hộp, thức ăn nhanh, hạn chế muối, giảm rượu bia.; Nên ăn cá, thịt gia cầm; nên ăn nhiều trái cây, rau, củ, quả, hạt, thực phẩm tươi sống, organic.\\n2. Điều trị tốt các bệnh lý đi kèm\\nKiểm soát lượng đường trong máu nếu bạn có đái tháo đường; Điều trị ổn định huyết áp và mỡ máu\\n\\nNgười trẻ tuổi có nguy cơ mắc bệnh mạch vành không?\\nMặc dù bệnh chủ yếu xảy ra ở người lớn tuổi, nhưng những năm gần đây nhóm đối tượng trẻ tuổi (đặc biệt là những người trong độ tuổi 40-45) được chẩn đoán mắc bệnh ngày càng gia tăng. Nguyên nhân chủ yếu là do tình trạng thừa cân béo phì, lối sống ít vận động, chế độ ăn uống/sinh hoạt thiếu học và hút thuốc lá ở người trẻ tuổi.\\nMột nguyên nhân khác chính là đa số người trẻ quan niệm bệnh mạch vành chỉ gặp ở người lớn tuổi. Thế nên, họ không quan tâm đến những yếu tố nguy cơ của bệnh, không tầm soát phát hiện bệnh sớm, khiến hiệu quả điều trị không cao.\\nTrung tâm Tim mạch Hệ thống BVĐK Tâm Anh sở hữu hệ thống máy móc nhập khẩu đồng bộ từ nước ngoài cùng đội ngũ y bác sĩ đầu ngành về tim mạch, là nơi thực hiện thăm khám, tầm soát và điều trị cho các bệnh nhân mắc bệnh lý tim mạch như bệnh mạch vành, nhồi máu cơ tim, suy tim, hẹp/hở van tim…\\nTrung tâm có sự phối hợp chặt chẽ với các chuyên khoa khác như Trung tâm Xét nghiệm, Trung tâm Chẩn đoán hình ảnh, Sản phụ khoa, khoa Ngoại tổng quát, Nội tổng quát (Hô hấp, Huyết học, Tiêu hóa…), Tai Mũi Họng, Răng hàm mặt, Niệu học và Thận học… giúp chẩn đoán chính xác bệnh lý và đưa ra phác đồ điều trị phù hợp cho bệnh nhân.\\nBệnh mạch vành nói riêng và các bệnh lý tim mạch nói chung\\xa0 có thể được phòng ngừa thông qua việc sống lành mạnh và chế độ dinh dưỡng tốt. Khám sức khỏe tim mạch định kỳ cũng sẽ giúp bạn có thể phát hiện sớm các dấu hiệu của bệnh và có phương án điều trị kịp thời.', metadata={'filename': 'benh-mach-vanh.json', 'path': '../datasets/KALAPA_ByteBattles_2023_MEDICAL_Set1/processed/benh-mach-vanh.json', 'title': 'Bệnh mạch vành: Nguyên nhân, dấu hiệu và cách điều trị', 'category': None, 'abstract': 'Bệnh mạch vành là dạng bệnh tim mạch phổ biến nhất ở người lớn, là một trong những nguyên nhân gây tử vong hàng đầu trên thế giới. Tại Việt Nam, tỷ lệ bệnh nhân tử vong do suy mạch vành khá cao, chiếm từ 11% – 36% và đang có dấu hiệu tăng dần mỗi năm. Bài viết được tư vấn chuyên môn bởi PGS.TS.BS Phạm Nguyễn Vinh, Giám đốc Trung tâm Tim mạch, Bệnh viện Đa khoa Tâm Anh TP.HCM\\nĐau thắt ngực, khó thở là biểu hiện dễ nhận thấy nhất của bệnh mạch vành', 'subsections': [{'subsection_name': 'Bệnh mạch vành là gì?', 'subsection_content': 'Bệnh mạch vành hay suy mạch vành là tình trạng các mạch máu chính cung cấp máu cho tim bị hẹp hoặc tắc nghẽn do mảng xơ vữa, khiến lưu lượng máu đến tim giảm đi. (1)\\nBệnh có 2 thể là hội chứng động mạch vành cấp và bệnh động mạch vành mạn:\\nHội chứng động mạch vành cấp là tình trạng bao gồm cơn đau thắt ngực không ổn định và nhồi máu cơ tim cấp, xảy ra do mạch vành bị tắc nghẽn hoàn toàn, cấp tính do mảng xơ vữa bị nứt vỡ hoặc do huyết khối.; Ngược lại, bệnh mạch vành mạn thường xảy ra âm thầm và tiến triển trong nhiều thập kỷ. Triệu chứng của bệnh xuất hiện và tăng dần khi diễn tiến của hẹp mạch vành nặng lên theo thời gian.', 'subsection_string': 'Bệnh mạch vành là gì?\\nBệnh mạch vành hay suy mạch vành là tình trạng các mạch máu chính cung cấp máu cho tim bị hẹp hoặc tắc nghẽn do mảng xơ vữa, khiến lưu lượng máu đến tim giảm đi. (1)\\nBệnh có 2 thể là hội chứng động mạch vành cấp và bệnh động mạch vành mạn:\\nHội chứng động mạch vành cấp là tình trạng bao gồm cơn đau thắt ngực không ổn định và nhồi máu cơ tim cấp, xảy ra do mạch vành bị tắc nghẽn hoàn toàn, cấp tính do mảng xơ vữa bị nứt vỡ hoặc do huyết khối.; Ngược lại, bệnh mạch vành mạn thường xảy ra âm thầm và tiến triển trong nhiều thập kỷ. Triệu chứng của bệnh xuất hiện và tăng dần khi diễn tiến của hẹp mạch vành nặng lên theo thời gian.'}, {'subsection_name': 'Dấu hiệu bệnh mạch vành thường gặp', 'subsection_content': 'Cơn đau thắt ngực hoặc khó thở khi gắng sức là dấu hiệu thường gặp nhất trong bệnh mạch vành. Người bệnh có cảm giác nặng, nghẹn, thắt, bóp nghẹt ở trong lồng ngực, thường bên ngực trái hoặc sau xương ức. Tình trạng này xảy ra khi gắng sức, đi bộ leo dốc, căng thẳng, stress, cơn đau kéo dài vài phút (3 – 5 phút), thường dưới 15 phút và hiếm khi xảy ra chỉ vài giây. Cơn đau thường lan lên cổ, hàm, hai vai, cánh tay trái hoặc lan sau lưng. Đặc biệt cơn đau giảm khi ngồi nghỉ hoặc ngậm thuốc nitrate.\\nNếu cơn đau kéo dài trên 15 phút, xảy ra lúc nghỉ là có khả năng đã bị nhồi máu cơ tim cấp, cần đến bệnh viện ngay để được điều trị tích cực sớm. (2)\\nNgoài ra còn có các dấu hiệu khác gợi ý suy mạch vành như:\\nKhó thở; Hụt hơi; Chóng mặt; Hồi hộp tim đập không đều,; Gần ngất; …', 'subsection_string': 'Dấu hiệu bệnh mạch vành thường gặp\\nCơn đau thắt ngực hoặc khó thở khi gắng sức là dấu hiệu thường gặp nhất trong bệnh mạch vành. Người bệnh có cảm giác nặng, nghẹn, thắt, bóp nghẹt ở trong lồng ngực, thường bên ngực trái hoặc sau xương ức. Tình trạng này xảy ra khi gắng sức, đi bộ leo dốc, căng thẳng, stress, cơn đau kéo dài vài phút (3 – 5 phút), thường dưới 15 phút và hiếm khi xảy ra chỉ vài giây. Cơn đau thường lan lên cổ, hàm, hai vai, cánh tay trái hoặc lan sau lưng. Đặc biệt cơn đau giảm khi ngồi nghỉ hoặc ngậm thuốc nitrate.\\nNếu cơn đau kéo dài trên 15 phút, xảy ra lúc nghỉ là có khả năng đã bị nhồi máu cơ tim cấp, cần đến bệnh viện ngay để được điều trị tích cực sớm. (2)\\nNgoài ra còn có các dấu hiệu khác gợi ý suy mạch vành như:\\nKhó thở; Hụt hơi; Chóng mặt; Hồi hộp tim đập không đều,; Gần ngất; …'}, {'subsection_name': 'Nguyên nhân gây ra các bệnh lý về mạch vành', 'subsection_content': 'Nguyên nhân thường gặp nhất của bệnh lý mạch vành là do mảng xơ vữa làm nghẽn lòng động mạch vành. Các yếu tố nguy cơ chính làm tăng xơ vữa động mạch gồm:\\nTình trạng cao huyết áp; Bệnh đái tháo đường; Rối loạn lipid máu; Hút thuốc lá\\nMột khi thành trong của động mạch vành bị tổn thương, các chất béo (mảng bám) hình thành từ cholesterol và các chất thải tế bào khác có xu hướng tích tụ tại vị trí bị tổn thương này. Quá trình này được gọi là xơ vữa động mạch. Nếu bề mặt mảng bám bị vỡ, các tế bào máu (gọi là tiểu cầu) sẽ kết tụ lại với nhau tại đây để cố gắng sửa chữa tổn thương, tạo thành cục huyết khối, gây bít hoàn toàn lòng mạch vành, dẫn đến nhồi máu cơ tim.(3)\\nCholesterol tích tụ tạo nên các mảng bám trong thành động mạch, gây tắc nghẽn và dẫn tới hẹp hoặc tắc mạch vành\\nNgoài ra, những người có các yếu tố dưới đây dễ tăng nguy cơ bị bệnh động mạch vành:\\nTuổi cao: càng lớn tuổi càng tăng nguy cơ bị xơ vữa động mạch và hẹp các động mạch.; Tiền sử gia đình mắc bệnh tim mạch sớm: trong gia đình có cha, anh em trai mắc bệnh trước 55 tuổi; hoặc mẹ hay chị em gái bạn có bệnh này trước 65 tuổi.; Thừa cân – béo phì: người có chỉ số BMI >23 sẽ tăng nguy cơ mắc các bệnh lý tim mạch chuyển hóa, trong đó có bệnh mạch vành.; Lối sống ít vận động: tăng nguy cơ mắc hội chứng chuyển hóa (tăng huyết áp, tăng đường huyết, béo bụng, rối loạn mỡ máu), tăng nguy cơ bị bệnh.; Thường xuyên stress: căng thẳng quá mức sẽ gây tổn hại cho động mạch,tăng quá trình viêm, tăng xơ vữa mạch máu, thúc đẩy bệnh tiến triển nhanh; Chế độ ăn uống không lành mạnh: ăn quá nhiều thực phẩm chứa chất béo, thịt mỡ, thức ăn chiên xào, thức ăn đóng hộp, nhiều muối và chất bột, đường sẽ làm tăng nguy cơ mắc bệnh tim mạch.; Chứng ngưng thở lúc ngủ: nồng độ oxy trong máu giảm đột ngột xảy ra khi ngưng thở lúc ngủ làm tăng huyết áp và gây stress trên hệ thống tim mạch, là yếu tố thuận lợi của bệnh lý mạch vành.; Một số bệnh nội khoa như suy thận mạn, bệnh tự miễn (viêm khớp dạng thấp, lupus ban đỏ, xơ cứng bì,..), rối loạn lipid máu gia đình,… cũng làm tăng cao nguy cơ mắc bệnh xơ vữa động mạch.', 'subsection_string': 'Nguyên nhân gây ra các bệnh lý về mạch vành\\nNguyên nhân thường gặp nhất của bệnh lý mạch vành là do mảng xơ vữa làm nghẽn lòng động mạch vành. Các yếu tố nguy cơ chính làm tăng xơ vữa động mạch gồm:\\nTình trạng cao huyết áp; Bệnh đái tháo đường; Rối loạn lipid máu; Hút thuốc lá\\nMột khi thành trong của động mạch vành bị tổn thương, các chất béo (mảng bám) hình thành từ cholesterol và các chất thải tế bào khác có xu hướng tích tụ tại vị trí bị tổn thương này. Quá trình này được gọi là xơ vữa động mạch. Nếu bề mặt mảng bám bị vỡ, các tế bào máu (gọi là tiểu cầu) sẽ kết tụ lại với nhau tại đây để cố gắng sửa chữa tổn thương, tạo thành cục huyết khối, gây bít hoàn toàn lòng mạch vành, dẫn đến nhồi máu cơ tim.(3)\\nCholesterol tích tụ tạo nên các mảng bám trong thành động mạch, gây tắc nghẽn và dẫn tới hẹp hoặc tắc mạch vành\\nNgoài ra, những người có các yếu tố dưới đây dễ tăng nguy cơ bị bệnh động mạch vành:\\nTuổi cao: càng lớn tuổi càng tăng nguy cơ bị xơ vữa động mạch và hẹp các động mạch.; Tiền sử gia đình mắc bệnh tim mạch sớm: trong gia đình có cha, anh em trai mắc bệnh trước 55 tuổi; hoặc mẹ hay chị em gái bạn có bệnh này trước 65 tuổi.; Thừa cân – béo phì: người có chỉ số BMI >23 sẽ tăng nguy cơ mắc các bệnh lý tim mạch chuyển hóa, trong đó có bệnh mạch vành.; Lối sống ít vận động: tăng nguy cơ mắc hội chứng chuyển hóa (tăng huyết áp, tăng đường huyết, béo bụng, rối loạn mỡ máu), tăng nguy cơ bị bệnh.; Thường xuyên stress: căng thẳng quá mức sẽ gây tổn hại cho động mạch,tăng quá trình viêm, tăng xơ vữa mạch máu, thúc đẩy bệnh tiến triển nhanh; Chế độ ăn uống không lành mạnh: ăn quá nhiều thực phẩm chứa chất béo, thịt mỡ, thức ăn chiên xào, thức ăn đóng hộp, nhiều muối và chất bột, đường sẽ làm tăng nguy cơ mắc bệnh tim mạch.; Chứng ngưng thở lúc ngủ: nồng độ oxy trong máu giảm đột ngột xảy ra khi ngưng thở lúc ngủ làm tăng huyết áp và gây stress trên hệ thống tim mạch, là yếu tố thuận lợi của bệnh lý mạch vành.; Một số bệnh nội khoa như suy thận mạn, bệnh tự miễn (viêm khớp dạng thấp, lupus ban đỏ, xơ cứng bì,..), rối loạn lipid máu gia đình,… cũng làm tăng cao nguy cơ mắc bệnh xơ vữa động mạch.'}, {'subsection_name': 'Phương pháp chẩn đoán suy mạch vành', 'subsection_content': 'Để chẩn đoán bệnh động mạch vành mạn bệnh nhân sẽ được bác sĩ hỏi bệnh sử, hỏi các yếu tố nguy cơ chính đưa đến bệnh mạch vành, khám lâm sàng, nghe tim phổi và kết hợp với các cận lâm sàng chuyên biệt giúp chẩn đoán xác định bệnh. (4)\\nCác cận lâm sàng cần làm để đánh giá và chẩn đoán bệnh mạch vành mạn gồm:\\nĐo điện tâm đồ chẩn đoán bệnh mạch vành; Chụp X-quang tim phổi; Siêu âm tim Doppler màu; Trắc nghiệm gắng sức: điện tâm đồ gắng sức (nếu bệnh nhân có thể chạy bộ được) hoặc siêu âm tim gắng sức bằng thuốc Dobutamine (cho người cao tuổi, không chạy bộ trên thảm lăn được); Chụp cắt lớp động mạch vành có cản quang: giúp kiểm tra mức độ tắc nghẽn và vôi hóa mạch vành.; Thông tim, chụp động mạch vành: thường được thực hiện khi nghiệm pháp gắng sức dương tính hoặc kết quả chụp CT mạch vành có hẹp hoặc khi bệnh nhân cần can thiệp mạch vành. Bác sĩ sẽ đưa một ống nhỏ vào trong mạch máu ở tay hay ở đùi, đẩy lên tim. Tiếp theo bác sĩ sẽ bơm thuốc cản quang để xem mạch máu nuôi tim có bị tắc nghẽn hay không. Đây là tiêu chuẩn vàng để chẩn đoán. Tuy nhiên, đây là phương pháp có xâm nhập vào người bệnh nhân nên được chỉ định chặt chẽ để giảm thiểu biến chứng.\\nChụp CT mạch vành có cản quang giúp chẩn đoán suy mạch vành', 'subsection_string': 'Phương pháp chẩn đoán suy mạch vành\\nĐể chẩn đoán bệnh động mạch vành mạn bệnh nhân sẽ được bác sĩ hỏi bệnh sử, hỏi các yếu tố nguy cơ chính đưa đến bệnh mạch vành, khám lâm sàng, nghe tim phổi và kết hợp với các cận lâm sàng chuyên biệt giúp chẩn đoán xác định bệnh. (4)\\nCác cận lâm sàng cần làm để đánh giá và chẩn đoán bệnh mạch vành mạn gồm:\\nĐo điện tâm đồ chẩn đoán bệnh mạch vành; Chụp X-quang tim phổi; Siêu âm tim Doppler màu; Trắc nghiệm gắng sức: điện tâm đồ gắng sức (nếu bệnh nhân có thể chạy bộ được) hoặc siêu âm tim gắng sức bằng thuốc Dobutamine (cho người cao tuổi, không chạy bộ trên thảm lăn được); Chụp cắt lớp động mạch vành có cản quang: giúp kiểm tra mức độ tắc nghẽn và vôi hóa mạch vành.; Thông tim, chụp động mạch vành: thường được thực hiện khi nghiệm pháp gắng sức dương tính hoặc kết quả chụp CT mạch vành có hẹp hoặc khi bệnh nhân cần can thiệp mạch vành. Bác sĩ sẽ đưa một ống nhỏ vào trong mạch máu ở tay hay ở đùi, đẩy lên tim. Tiếp theo bác sĩ sẽ bơm thuốc cản quang để xem mạch máu nuôi tim có bị tắc nghẽn hay không. Đây là tiêu chuẩn vàng để chẩn đoán. Tuy nhiên, đây là phương pháp có xâm nhập vào người bệnh nhân nên được chỉ định chặt chẽ để giảm thiểu biến chứng.\\nChụp CT mạch vành có cản quang giúp chẩn đoán suy mạch vành'}, {'subsection_name': 'Bệnh mạch vành có nguy hiểm không?', 'subsection_content': 'Bệnh động mạch vành có khả năng dẫn đến các biến chứng nguy hiểm như:\\nĐột tử: khoảng 30 % – 50% bệnh nhân nhồi máu cơ tim cấp bị đột tử trước khi đến bệnh viện.; Bệnh suy tim: do thiếu máu cục bộ cơ tim kéo dài hoặc sau nhồi máu cơ tim, làm tim to, co bóp kém, hở van tim.; Hở van tim nặng do đứt dây chằng van tim, sa lá van, dãn vòng van hay tâm thất trái co bóp bất thường. Cuối cùng làm cho tim ngày càng to ra và suy tim tiến triển nặng thêm.; Rối loạn nhịp tim: như blốc nhĩ thất (cần đặt máy tạo nhịp), rung nhĩ (dễ đưa đến nhồi máu não), ngoại tâm thu thất do sẹo cơ tim nhồi máu; nguy hiểm hơn là nhịp nhanh thất hoặc rung thất đưa đến đột tử.\\nXem thêm:\\xa0Bệnh mạch vành sống được bao lâu? Làm thế nào để sống chung với bệnh?', 'subsection_string': 'Bệnh mạch vành có nguy hiểm không?\\nBệnh động mạch vành có khả năng dẫn đến các biến chứng nguy hiểm như:\\nĐột tử: khoảng 30 % – 50% bệnh nhân nhồi máu cơ tim cấp bị đột tử trước khi đến bệnh viện.; Bệnh suy tim: do thiếu máu cục bộ cơ tim kéo dài hoặc sau nhồi máu cơ tim, làm tim to, co bóp kém, hở van tim.; Hở van tim nặng do đứt dây chằng van tim, sa lá van, dãn vòng van hay tâm thất trái co bóp bất thường. Cuối cùng làm cho tim ngày càng to ra và suy tim tiến triển nặng thêm.; Rối loạn nhịp tim: như blốc nhĩ thất (cần đặt máy tạo nhịp), rung nhĩ (dễ đưa đến nhồi máu não), ngoại tâm thu thất do sẹo cơ tim nhồi máu; nguy hiểm hơn là nhịp nhanh thất hoặc rung thất đưa đến đột tử.\\nXem thêm:\\xa0Bệnh mạch vành sống được bao lâu? Làm thế nào để sống chung với bệnh?'}, {'subsection_name': 'Phương pháp điều trị bệnh mạch vành', 'subsection_content': 'Điều trị các căn bệnh liên quan đến mạch vành bằng phương pháp nào phụ thuộc vào mức độ nặng nhẹ của bệnh. Tất cả các phương pháp điều trị đều nhằm mục tiêu tăng cường cung cấp máu cho tim, giảm triệu chứng và kéo dài đời sống người bệnh, bao gồm:\\nĐiều trị cơ bản trong tất cả các giai đoạn của bệnh là thay đổi lối sống và dùng thuốc.; Điều trị can thiệp gồm có nong, đặt stent mạch vành và mổ bắc cầu mạch vành\\n1. Thay đổi lối sống\\nNgười bệnh phải ngưng thuốc lá, tập thể dục đều đặn các ngày trong tuần, giảm cân nếu dư cân hay béo phì, chế độ ăn tốt cho tim mạch, giảm rượu bia.\\nNói “không” với thuốc lá để phòng ngừa và cải thiện các triệu chứng tim mạch\\n2. Điều trị bằng thuốc\\nCần uống thuốc đều đặn và lâu dài, trong đó thuốc chống kết tập tiểu cầu phải uống suốt đời, đặc biệt ở người đã có nhồi máu cơ tim, có đặt stent hay mổ bắc cầu mạch vành.\\nThuốc chống kết tập tiểu cầu: aspirin, clopidogrel, ticagrelor, prasugrel; Thuốc hạ mỡ máu, giảm xơ vữa động mạch: nhóm statin (atorvastatin, rosuvastatin, simvastatin, pravastatin,..); Điều trị các bệnh đi kèm như cao huyết áp, đái tháo đường; Thuốc chống đau thắt ngực: như chẹn beta, chẹn kênh calci, nitrate, nicorandil, ranolazine, trimetazidine,…\\n3. Can thiệp động mạch vành qua da và đặt stent\\nStent động mạch vành là những khung lưới kim loại nhỏ được đưa vào trong lòng mạch vành, nhằm mở rộng lòng mạch bị hẹp và giữ nó không hẹp lại.\\n4. Phẫu thuật bắc cầu động mạch vành\\nDùng một đoạn động hoặc tĩnh mạch làm cầu nối bắc qua vị trí mạch vành tổn thương, nối phía sau đoạn hẹp; như vậy máu sẽ được cung cấp cho vùng cơ tim bị thiếu máu sau chỗ hẹp thông qua cầu nối mới.\\nSau khi đặt stent hoặc mổ bắc cầu người bệnh cần uống thuốc đều đặn, thay đổi lối sống để tránh bị tái hẹp, tắc trong stent hay cầu nối mạch vành.\\nXem thêm:\\xa0Bệnh mạch vành có chữa khỏi được không? Phương pháp điều trị nào hiệu quả?', 'subsection_string': 'Phương pháp điều trị bệnh mạch vành\\nĐiều trị các căn bệnh liên quan đến mạch vành bằng phương pháp nào phụ thuộc vào mức độ nặng nhẹ của bệnh. Tất cả các phương pháp điều trị đều nhằm mục tiêu tăng cường cung cấp máu cho tim, giảm triệu chứng và kéo dài đời sống người bệnh, bao gồm:\\nĐiều trị cơ bản trong tất cả các giai đoạn của bệnh là thay đổi lối sống và dùng thuốc.; Điều trị can thiệp gồm có nong, đặt stent mạch vành và mổ bắc cầu mạch vành\\n1. Thay đổi lối sống\\nNgười bệnh phải ngưng thuốc lá, tập thể dục đều đặn các ngày trong tuần, giảm cân nếu dư cân hay béo phì, chế độ ăn tốt cho tim mạch, giảm rượu bia.\\nNói “không” với thuốc lá để phòng ngừa và cải thiện các triệu chứng tim mạch\\n2. Điều trị bằng thuốc\\nCần uống thuốc đều đặn và lâu dài, trong đó thuốc chống kết tập tiểu cầu phải uống suốt đời, đặc biệt ở người đã có nhồi máu cơ tim, có đặt stent hay mổ bắc cầu mạch vành.\\nThuốc chống kết tập tiểu cầu: aspirin, clopidogrel, ticagrelor, prasugrel; Thuốc hạ mỡ máu, giảm xơ vữa động mạch: nhóm statin (atorvastatin, rosuvastatin, simvastatin, pravastatin,..); Điều trị các bệnh đi kèm như cao huyết áp, đái tháo đường; Thuốc chống đau thắt ngực: như chẹn beta, chẹn kênh calci, nitrate, nicorandil, ranolazine, trimetazidine,…\\n3. Can thiệp động mạch vành qua da và đặt stent\\nStent động mạch vành là những khung lưới kim loại nhỏ được đưa vào trong lòng mạch vành, nhằm mở rộng lòng mạch bị hẹp và giữ nó không hẹp lại.\\n4. Phẫu thuật bắc cầu động mạch vành\\nDùng một đoạn động hoặc tĩnh mạch làm cầu nối bắc qua vị trí mạch vành tổn thương, nối phía sau đoạn hẹp; như vậy máu sẽ được cung cấp cho vùng cơ tim bị thiếu máu sau chỗ hẹp thông qua cầu nối mới.\\nSau khi đặt stent hoặc mổ bắc cầu người bệnh cần uống thuốc đều đặn, thay đổi lối sống để tránh bị tái hẹp, tắc trong stent hay cầu nối mạch vành.\\nXem thêm:\\xa0Bệnh mạch vành có chữa khỏi được không? Phương pháp điều trị nào hiệu quả?'}, {'subsection_name': 'Cách phòng tránh bệnh mạch vành', 'subsection_content': '1. Tuân thủ lối sống lành mạnh\\nĐây là biện pháp hữu hiệu nhất để phòng tránh các bệnh lý tim mạch, trong đó có bệnh mạch vành.\\nNgưng hút thuốc lá, tránh hút thuốc lá thụ động; Thể dục thường xuyên, tối thiểu 30 – 45 phút mỗi ngày, các ngày trong tuần. Có thể đi bộ, chạy bộ, chạy xe đạp, bơi lội, đánh cầu lông, bóng bàn, đánh golf, tập yoga, thể dục nhịp điệu, thiền,.. tùy theo tình trạng sức khỏe mỗi người; tránh căng thẳng trong cuộc sống và công việc.; Giảm cân nếu dư cân, béo phì (khi BMI >23): đặt mục tiêu giảm từ 5% đến 7% cân nặng trong vòng mỗi 6 tháng đến khi đạt cân nặng lý tưởng (BMI từ 18 – 22); Chế độ ăn tốt cho tim mạch:  Ăn ít chất béo, thịt mỡ, chất bột đường, thực phẩm đóng hộp, thức ăn nhanh, hạn chế muối, giảm rượu bia. Nên ăn cá, thịt gia cầm; nên ăn nhiều trái cây, rau, củ, quả, hạt, thực phẩm tươi sống, organic.; Ăn ít chất béo, thịt mỡ, chất bột đường, thực phẩm đóng hộp, thức ăn nhanh, hạn chế muối, giảm rượu bia.; Nên ăn cá, thịt gia cầm; nên ăn nhiều trái cây, rau, củ, quả, hạt, thực phẩm tươi sống, organic.\\n2. Điều trị tốt các bệnh lý đi kèm\\nKiểm soát lượng đường trong máu nếu bạn có đái tháo đường; Điều trị ổn định huyết áp và mỡ máu', 'subsection_string': 'Cách phòng tránh bệnh mạch vành\\n1. Tuân thủ lối sống lành mạnh\\nĐây là biện pháp hữu hiệu nhất để phòng tránh các bệnh lý tim mạch, trong đó có bệnh mạch vành.\\nNgưng hút thuốc lá, tránh hút thuốc lá thụ động; Thể dục thường xuyên, tối thiểu 30 – 45 phút mỗi ngày, các ngày trong tuần. Có thể đi bộ, chạy bộ, chạy xe đạp, bơi lội, đánh cầu lông, bóng bàn, đánh golf, tập yoga, thể dục nhịp điệu, thiền,.. tùy theo tình trạng sức khỏe mỗi người; tránh căng thẳng trong cuộc sống và công việc.; Giảm cân nếu dư cân, béo phì (khi BMI >23): đặt mục tiêu giảm từ 5% đến 7% cân nặng trong vòng mỗi 6 tháng đến khi đạt cân nặng lý tưởng (BMI từ 18 – 22); Chế độ ăn tốt cho tim mạch:  Ăn ít chất béo, thịt mỡ, chất bột đường, thực phẩm đóng hộp, thức ăn nhanh, hạn chế muối, giảm rượu bia. Nên ăn cá, thịt gia cầm; nên ăn nhiều trái cây, rau, củ, quả, hạt, thực phẩm tươi sống, organic.; Ăn ít chất béo, thịt mỡ, chất bột đường, thực phẩm đóng hộp, thức ăn nhanh, hạn chế muối, giảm rượu bia.; Nên ăn cá, thịt gia cầm; nên ăn nhiều trái cây, rau, củ, quả, hạt, thực phẩm tươi sống, organic.\\n2. Điều trị tốt các bệnh lý đi kèm\\nKiểm soát lượng đường trong máu nếu bạn có đái tháo đường; Điều trị ổn định huyết áp và mỡ máu'}, {'subsection_name': 'Người trẻ tuổi có nguy cơ mắc bệnh mạch vành không?', 'subsection_content': 'Mặc dù bệnh chủ yếu xảy ra ở người lớn tuổi, nhưng những năm gần đây nhóm đối tượng trẻ tuổi (đặc biệt là những người trong độ tuổi 40-45) được chẩn đoán mắc bệnh ngày càng gia tăng. Nguyên nhân chủ yếu là do tình trạng thừa cân béo phì, lối sống ít vận động, chế độ ăn uống/sinh hoạt thiếu học và hút thuốc lá ở người trẻ tuổi.\\nMột nguyên nhân khác chính là đa số người trẻ quan niệm bệnh mạch vành chỉ gặp ở người lớn tuổi. Thế nên, họ không quan tâm đến những yếu tố nguy cơ của bệnh, không tầm soát phát hiện bệnh sớm, khiến hiệu quả điều trị không cao.\\nTrung tâm Tim mạch Hệ thống BVĐK Tâm Anh sở hữu hệ thống máy móc nhập khẩu đồng bộ từ nước ngoài cùng đội ngũ y bác sĩ đầu ngành về tim mạch, là nơi thực hiện thăm khám, tầm soát và điều trị cho các bệnh nhân mắc bệnh lý tim mạch như bệnh mạch vành, nhồi máu cơ tim, suy tim, hẹp/hở van tim…\\nTrung tâm có sự phối hợp chặt chẽ với các chuyên khoa khác như Trung tâm Xét nghiệm, Trung tâm Chẩn đoán hình ảnh, Sản phụ khoa, khoa Ngoại tổng quát, Nội tổng quát (Hô hấp, Huyết học, Tiêu hóa…), Tai Mũi Họng, Răng hàm mặt, Niệu học và Thận học… giúp chẩn đoán chính xác bệnh lý và đưa ra phác đồ điều trị phù hợp cho bệnh nhân.\\nBệnh mạch vành nói riêng và các bệnh lý tim mạch nói chung\\xa0 có thể được phòng ngừa thông qua việc sống lành mạnh và chế độ dinh dưỡng tốt. Khám sức khỏe tim mạch định kỳ cũng sẽ giúp bạn có thể phát hiện sớm các dấu hiệu của bệnh và có phương án điều trị kịp thời.', 'subsection_string': 'Người trẻ tuổi có nguy cơ mắc bệnh mạch vành không?\\nMặc dù bệnh chủ yếu xảy ra ở người lớn tuổi, nhưng những năm gần đây nhóm đối tượng trẻ tuổi (đặc biệt là những người trong độ tuổi 40-45) được chẩn đoán mắc bệnh ngày càng gia tăng. Nguyên nhân chủ yếu là do tình trạng thừa cân béo phì, lối sống ít vận động, chế độ ăn uống/sinh hoạt thiếu học và hút thuốc lá ở người trẻ tuổi.\\nMột nguyên nhân khác chính là đa số người trẻ quan niệm bệnh mạch vành chỉ gặp ở người lớn tuổi. Thế nên, họ không quan tâm đến những yếu tố nguy cơ của bệnh, không tầm soát phát hiện bệnh sớm, khiến hiệu quả điều trị không cao.\\nTrung tâm Tim mạch Hệ thống BVĐK Tâm Anh sở hữu hệ thống máy móc nhập khẩu đồng bộ từ nước ngoài cùng đội ngũ y bác sĩ đầu ngành về tim mạch, là nơi thực hiện thăm khám, tầm soát và điều trị cho các bệnh nhân mắc bệnh lý tim mạch như bệnh mạch vành, nhồi máu cơ tim, suy tim, hẹp/hở van tim…\\nTrung tâm có sự phối hợp chặt chẽ với các chuyên khoa khác như Trung tâm Xét nghiệm, Trung tâm Chẩn đoán hình ảnh, Sản phụ khoa, khoa Ngoại tổng quát, Nội tổng quát (Hô hấp, Huyết học, Tiêu hóa…), Tai Mũi Họng, Răng hàm mặt, Niệu học và Thận học… giúp chẩn đoán chính xác bệnh lý và đưa ra phác đồ điều trị phù hợp cho bệnh nhân.\\nBệnh mạch vành nói riêng và các bệnh lý tim mạch nói chung\\xa0 có thể được phòng ngừa thông qua việc sống lành mạnh và chế độ dinh dưỡng tốt. Khám sức khỏe tim mạch định kỳ cũng sẽ giúp bạn có thể phát hiện sớm các dấu hiệu của bệnh và có phương án điều trị kịp thời.'}]})]"
      ]
     },
     "execution_count": 6,
     "metadata": {},
     "output_type": "execute_result"
    }
   ],
   "source": [
    "query = \"\"\"\n",
    "Đâu là triệu chứng của bệnh van tim?\n",
    "A. Khó thở\n",
    "B. Tăng cân nhanh chóng\n",
    "C. Vàng da\n",
    "D. Rụng tóc\n",
    "\"\"\"\n",
    "\n",
    "result = loaded_db.similarity_search(query=query, k=1)\n",
    "result"
   ]
  },
  {
   "cell_type": "code",
   "execution_count": 7,
   "metadata": {},
   "outputs": [
    {
     "name": "stdout",
     "output_type": "stream",
     "text": [
      "Bệnh mạch vành: Nguyên nhân, dấu hiệu và cách điều trị\n",
      "\n",
      "Bệnh mạch vành là dạng bệnh tim mạch phổ biến nhất ở người lớn, là một trong những nguyên nhân gây tử vong hàng đầu trên thế giới. Tại Việt Nam, tỷ lệ bệnh nhân tử vong do suy mạch vành khá cao, chiếm từ 11% – 36% và đang có dấu hiệu tăng dần mỗi năm. Bài viết được tư vấn chuyên môn bởi PGS.TS.BS Phạm Nguyễn Vinh, Giám đốc Trung tâm Tim mạch, Bệnh viện Đa khoa Tâm Anh TP.HCM\n",
      "Đau thắt ngực, khó thở là biểu hiện dễ nhận thấy nhất của bệnh mạch vành\n",
      "\n",
      "Bệnh mạch vành là gì?\n",
      "Bệnh mạch vành hay suy mạch vành là tình trạng các mạch máu chính cung cấp máu cho tim bị hẹp hoặc tắc nghẽn do mảng xơ vữa, khiến lưu lượng máu đến tim giảm đi. (1)\n",
      "Bệnh có 2 thể là hội chứng động mạch vành cấp và bệnh động mạch vành mạn:\n",
      "Hội chứng động mạch vành cấp là tình trạng bao gồm cơn đau thắt ngực không ổn định và nhồi máu cơ tim cấp, xảy ra do mạch vành bị tắc nghẽn hoàn toàn, cấp tính do mảng xơ vữa bị nứt vỡ hoặc do huyết khối.; Ngược lại, bệnh mạch vành mạn thường xảy ra âm thầm và tiến triển trong nhiều thập kỷ. Triệu chứng của bệnh xuất hiện và tăng dần khi diễn tiến của hẹp mạch vành nặng lên theo thời gian.\n",
      "\n",
      "Dấu hiệu bệnh mạch vành thường gặp\n",
      "Cơn đau thắt ngực hoặc khó thở khi gắng sức là dấu hiệu thường gặp nhất trong bệnh mạch vành. Người bệnh có cảm giác nặng, nghẹn, thắt, bóp nghẹt ở trong lồng ngực, thường bên ngực trái hoặc sau xương ức. Tình trạng này xảy ra khi gắng sức, đi bộ leo dốc, căng thẳng, stress, cơn đau kéo dài vài phút (3 – 5 phút), thường dưới 15 phút và hiếm khi xảy ra chỉ vài giây. Cơn đau thường lan lên cổ, hàm, hai vai, cánh tay trái hoặc lan sau lưng. Đặc biệt cơn đau giảm khi ngồi nghỉ hoặc ngậm thuốc nitrate.\n",
      "Nếu cơn đau kéo dài trên 15 phút, xảy ra lúc nghỉ là có khả năng đã bị nhồi máu cơ tim cấp, cần đến bệnh viện ngay để được điều trị tích cực sớm. (2)\n",
      "Ngoài ra còn có các dấu hiệu khác gợi ý suy mạch vành như:\n",
      "Khó thở; Hụt hơi; Chóng mặt; Hồi hộp tim đập không đều,; Gần ngất; …\n",
      "\n",
      "Nguyên nhân gây ra các bệnh lý về mạch vành\n",
      "Nguyên nhân thường gặp nhất của bệnh lý mạch vành là do mảng xơ vữa làm nghẽn lòng động mạch vành. Các yếu tố nguy cơ chính làm tăng xơ vữa động mạch gồm:\n",
      "Tình trạng cao huyết áp; Bệnh đái tháo đường; Rối loạn lipid máu; Hút thuốc lá\n",
      "Một khi thành trong của động mạch vành bị tổn thương, các chất béo (mảng bám) hình thành từ cholesterol và các chất thải tế bào khác có xu hướng tích tụ tại vị trí bị tổn thương này. Quá trình này được gọi là xơ vữa động mạch. Nếu bề mặt mảng bám bị vỡ, các tế bào máu (gọi là tiểu cầu) sẽ kết tụ lại với nhau tại đây để cố gắng sửa chữa tổn thương, tạo thành cục huyết khối, gây bít hoàn toàn lòng mạch vành, dẫn đến nhồi máu cơ tim.(3)\n",
      "Cholesterol tích tụ tạo nên các mảng bám trong thành động mạch, gây tắc nghẽn và dẫn tới hẹp hoặc tắc mạch vành\n",
      "Ngoài ra, những người có các yếu tố dưới đây dễ tăng nguy cơ bị bệnh động mạch vành:\n",
      "Tuổi cao: càng lớn tuổi càng tăng nguy cơ bị xơ vữa động mạch và hẹp các động mạch.; Tiền sử gia đình mắc bệnh tim mạch sớm: trong gia đình có cha, anh em trai mắc bệnh trước 55 tuổi; hoặc mẹ hay chị em gái bạn có bệnh này trước 65 tuổi.; Thừa cân – béo phì: người có chỉ số BMI >23 sẽ tăng nguy cơ mắc các bệnh lý tim mạch chuyển hóa, trong đó có bệnh mạch vành.; Lối sống ít vận động: tăng nguy cơ mắc hội chứng chuyển hóa (tăng huyết áp, tăng đường huyết, béo bụng, rối loạn mỡ máu), tăng nguy cơ bị bệnh.; Thường xuyên stress: căng thẳng quá mức sẽ gây tổn hại cho động mạch,tăng quá trình viêm, tăng xơ vữa mạch máu, thúc đẩy bệnh tiến triển nhanh; Chế độ ăn uống không lành mạnh: ăn quá nhiều thực phẩm chứa chất béo, thịt mỡ, thức ăn chiên xào, thức ăn đóng hộp, nhiều muối và chất bột, đường sẽ làm tăng nguy cơ mắc bệnh tim mạch.; Chứng ngưng thở lúc ngủ: nồng độ oxy trong máu giảm đột ngột xảy ra khi ngưng thở lúc ngủ làm tăng huyết áp và gây stress trên hệ thống tim mạch, là yếu tố thuận lợi của bệnh lý mạch vành.; Một số bệnh nội khoa như suy thận mạn, bệnh tự miễn (viêm khớp dạng thấp, lupus ban đỏ, xơ cứng bì,..), rối loạn lipid máu gia đình,… cũng làm tăng cao nguy cơ mắc bệnh xơ vữa động mạch.\n",
      "\n",
      "Phương pháp chẩn đoán suy mạch vành\n",
      "Để chẩn đoán bệnh động mạch vành mạn bệnh nhân sẽ được bác sĩ hỏi bệnh sử, hỏi các yếu tố nguy cơ chính đưa đến bệnh mạch vành, khám lâm sàng, nghe tim phổi và kết hợp với các cận lâm sàng chuyên biệt giúp chẩn đoán xác định bệnh. (4)\n",
      "Các cận lâm sàng cần làm để đánh giá và chẩn đoán bệnh mạch vành mạn gồm:\n",
      "Đo điện tâm đồ chẩn đoán bệnh mạch vành; Chụp X-quang tim phổi; Siêu âm tim Doppler màu; Trắc nghiệm gắng sức: điện tâm đồ gắng sức (nếu bệnh nhân có thể chạy bộ được) hoặc siêu âm tim gắng sức bằng thuốc Dobutamine (cho người cao tuổi, không chạy bộ trên thảm lăn được); Chụp cắt lớp động mạch vành có cản quang: giúp kiểm tra mức độ tắc nghẽn và vôi hóa mạch vành.; Thông tim, chụp động mạch vành: thường được thực hiện khi nghiệm pháp gắng sức dương tính hoặc kết quả chụp CT mạch vành có hẹp hoặc khi bệnh nhân cần can thiệp mạch vành. Bác sĩ sẽ đưa một ống nhỏ vào trong mạch máu ở tay hay ở đùi, đẩy lên tim. Tiếp theo bác sĩ sẽ bơm thuốc cản quang để xem mạch máu nuôi tim có bị tắc nghẽn hay không. Đây là tiêu chuẩn vàng để chẩn đoán. Tuy nhiên, đây là phương pháp có xâm nhập vào người bệnh nhân nên được chỉ định chặt chẽ để giảm thiểu biến chứng.\n",
      "Chụp CT mạch vành có cản quang giúp chẩn đoán suy mạch vành\n",
      "\n",
      "Bệnh mạch vành có nguy hiểm không?\n",
      "Bệnh động mạch vành có khả năng dẫn đến các biến chứng nguy hiểm như:\n",
      "Đột tử: khoảng 30 % – 50% bệnh nhân nhồi máu cơ tim cấp bị đột tử trước khi đến bệnh viện.; Bệnh suy tim: do thiếu máu cục bộ cơ tim kéo dài hoặc sau nhồi máu cơ tim, làm tim to, co bóp kém, hở van tim.; Hở van tim nặng do đứt dây chằng van tim, sa lá van, dãn vòng van hay tâm thất trái co bóp bất thường. Cuối cùng làm cho tim ngày càng to ra và suy tim tiến triển nặng thêm.; Rối loạn nhịp tim: như blốc nhĩ thất (cần đặt máy tạo nhịp), rung nhĩ (dễ đưa đến nhồi máu não), ngoại tâm thu thất do sẹo cơ tim nhồi máu; nguy hiểm hơn là nhịp nhanh thất hoặc rung thất đưa đến đột tử.\n",
      "Xem thêm: Bệnh mạch vành sống được bao lâu? Làm thế nào để sống chung với bệnh?\n",
      "\n",
      "Phương pháp điều trị bệnh mạch vành\n",
      "Điều trị các căn bệnh liên quan đến mạch vành bằng phương pháp nào phụ thuộc vào mức độ nặng nhẹ của bệnh. Tất cả các phương pháp điều trị đều nhằm mục tiêu tăng cường cung cấp máu cho tim, giảm triệu chứng và kéo dài đời sống người bệnh, bao gồm:\n",
      "Điều trị cơ bản trong tất cả các giai đoạn của bệnh là thay đổi lối sống và dùng thuốc.; Điều trị can thiệp gồm có nong, đặt stent mạch vành và mổ bắc cầu mạch vành\n",
      "1. Thay đổi lối sống\n",
      "Người bệnh phải ngưng thuốc lá, tập thể dục đều đặn các ngày trong tuần, giảm cân nếu dư cân hay béo phì, chế độ ăn tốt cho tim mạch, giảm rượu bia.\n",
      "Nói “không” với thuốc lá để phòng ngừa và cải thiện các triệu chứng tim mạch\n",
      "2. Điều trị bằng thuốc\n",
      "Cần uống thuốc đều đặn và lâu dài, trong đó thuốc chống kết tập tiểu cầu phải uống suốt đời, đặc biệt ở người đã có nhồi máu cơ tim, có đặt stent hay mổ bắc cầu mạch vành.\n",
      "Thuốc chống kết tập tiểu cầu: aspirin, clopidogrel, ticagrelor, prasugrel; Thuốc hạ mỡ máu, giảm xơ vữa động mạch: nhóm statin (atorvastatin, rosuvastatin, simvastatin, pravastatin,..); Điều trị các bệnh đi kèm như cao huyết áp, đái tháo đường; Thuốc chống đau thắt ngực: như chẹn beta, chẹn kênh calci, nitrate, nicorandil, ranolazine, trimetazidine,…\n",
      "3. Can thiệp động mạch vành qua da và đặt stent\n",
      "Stent động mạch vành là những khung lưới kim loại nhỏ được đưa vào trong lòng mạch vành, nhằm mở rộng lòng mạch bị hẹp và giữ nó không hẹp lại.\n",
      "4. Phẫu thuật bắc cầu động mạch vành\n",
      "Dùng một đoạn động hoặc tĩnh mạch làm cầu nối bắc qua vị trí mạch vành tổn thương, nối phía sau đoạn hẹp; như vậy máu sẽ được cung cấp cho vùng cơ tim bị thiếu máu sau chỗ hẹp thông qua cầu nối mới.\n",
      "Sau khi đặt stent hoặc mổ bắc cầu người bệnh cần uống thuốc đều đặn, thay đổi lối sống để tránh bị tái hẹp, tắc trong stent hay cầu nối mạch vành.\n",
      "Xem thêm: Bệnh mạch vành có chữa khỏi được không? Phương pháp điều trị nào hiệu quả?\n",
      "\n",
      "Cách phòng tránh bệnh mạch vành\n",
      "1. Tuân thủ lối sống lành mạnh\n",
      "Đây là biện pháp hữu hiệu nhất để phòng tránh các bệnh lý tim mạch, trong đó có bệnh mạch vành.\n",
      "Ngưng hút thuốc lá, tránh hút thuốc lá thụ động; Thể dục thường xuyên, tối thiểu 30 – 45 phút mỗi ngày, các ngày trong tuần. Có thể đi bộ, chạy bộ, chạy xe đạp, bơi lội, đánh cầu lông, bóng bàn, đánh golf, tập yoga, thể dục nhịp điệu, thiền,.. tùy theo tình trạng sức khỏe mỗi người; tránh căng thẳng trong cuộc sống và công việc.; Giảm cân nếu dư cân, béo phì (khi BMI >23): đặt mục tiêu giảm từ 5% đến 7% cân nặng trong vòng mỗi 6 tháng đến khi đạt cân nặng lý tưởng (BMI từ 18 – 22); Chế độ ăn tốt cho tim mạch:  Ăn ít chất béo, thịt mỡ, chất bột đường, thực phẩm đóng hộp, thức ăn nhanh, hạn chế muối, giảm rượu bia. Nên ăn cá, thịt gia cầm; nên ăn nhiều trái cây, rau, củ, quả, hạt, thực phẩm tươi sống, organic.; Ăn ít chất béo, thịt mỡ, chất bột đường, thực phẩm đóng hộp, thức ăn nhanh, hạn chế muối, giảm rượu bia.; Nên ăn cá, thịt gia cầm; nên ăn nhiều trái cây, rau, củ, quả, hạt, thực phẩm tươi sống, organic.\n",
      "2. Điều trị tốt các bệnh lý đi kèm\n",
      "Kiểm soát lượng đường trong máu nếu bạn có đái tháo đường; Điều trị ổn định huyết áp và mỡ máu\n",
      "\n",
      "Người trẻ tuổi có nguy cơ mắc bệnh mạch vành không?\n",
      "Mặc dù bệnh chủ yếu xảy ra ở người lớn tuổi, nhưng những năm gần đây nhóm đối tượng trẻ tuổi (đặc biệt là những người trong độ tuổi 40-45) được chẩn đoán mắc bệnh ngày càng gia tăng. Nguyên nhân chủ yếu là do tình trạng thừa cân béo phì, lối sống ít vận động, chế độ ăn uống/sinh hoạt thiếu học và hút thuốc lá ở người trẻ tuổi.\n",
      "Một nguyên nhân khác chính là đa số người trẻ quan niệm bệnh mạch vành chỉ gặp ở người lớn tuổi. Thế nên, họ không quan tâm đến những yếu tố nguy cơ của bệnh, không tầm soát phát hiện bệnh sớm, khiến hiệu quả điều trị không cao.\n",
      "Trung tâm Tim mạch Hệ thống BVĐK Tâm Anh sở hữu hệ thống máy móc nhập khẩu đồng bộ từ nước ngoài cùng đội ngũ y bác sĩ đầu ngành về tim mạch, là nơi thực hiện thăm khám, tầm soát và điều trị cho các bệnh nhân mắc bệnh lý tim mạch như bệnh mạch vành, nhồi máu cơ tim, suy tim, hẹp/hở van tim…\n",
      "Trung tâm có sự phối hợp chặt chẽ với các chuyên khoa khác như Trung tâm Xét nghiệm, Trung tâm Chẩn đoán hình ảnh, Sản phụ khoa, khoa Ngoại tổng quát, Nội tổng quát (Hô hấp, Huyết học, Tiêu hóa…), Tai Mũi Họng, Răng hàm mặt, Niệu học và Thận học… giúp chẩn đoán chính xác bệnh lý và đưa ra phác đồ điều trị phù hợp cho bệnh nhân.\n",
      "Bệnh mạch vành nói riêng và các bệnh lý tim mạch nói chung  có thể được phòng ngừa thông qua việc sống lành mạnh và chế độ dinh dưỡng tốt. Khám sức khỏe tim mạch định kỳ cũng sẽ giúp bạn có thể phát hiện sớm các dấu hiệu của bệnh và có phương án điều trị kịp thời.\n"
     ]
    }
   ],
   "source": [
    "context = result[0].page_content\n",
    "print(context)"
   ]
  }
 ],
 "metadata": {
  "kernelspec": {
   "display_name": "base",
   "language": "python",
   "name": "python3"
  },
  "language_info": {
   "codemirror_mode": {
    "name": "ipython",
    "version": 3
   },
   "file_extension": ".py",
   "mimetype": "text/x-python",
   "name": "python",
   "nbconvert_exporter": "python",
   "pygments_lexer": "ipython3",
   "version": "3.11.4"
  },
  "orig_nbformat": 4
 },
 "nbformat": 4,
 "nbformat_minor": 2
}
