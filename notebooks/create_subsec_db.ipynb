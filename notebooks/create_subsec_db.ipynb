{
 "cells": [
  {
   "cell_type": "code",
   "execution_count": 7,
   "metadata": {},
   "outputs": [],
   "source": [
    "import os\n",
    "os.environ['TF_CPP_MIN_LOG_LEVEL'] = '3' \n",
    "\n",
    "import json\n",
    "\n",
    "from torch import cuda\n",
    "from pyvi.ViTokenizer import tokenize\n",
    "from langchain.embeddings.huggingface import HuggingFaceEmbeddings\n",
    "\n",
    "# embed_model_id = 'sentence-transformers/all-MiniLM-L6-v2'\n",
    "# embed_model_id = 'bkai-foundation-models/vietnamese-bi-encoder'\n",
    "embed_model_id = \"all-MiniLM-L6-v2\"\n",
    "\n",
    "device = f'cuda:{cuda.current_device()}' if cuda.is_available() else 'cpu'\n",
    "# device = 'cpu'\n",
    "cache_dir = \"../cache/\"\n",
    "\n",
    "DB_SAVE_NAME = f\"ensubsec_{embed_model_id.split('/')[-1].replace('.','-')}\"\n",
    "DOCUMENT_DIR = \"../datasets/KALAPA_ByteBattles_2023_MEDICAL_Set1/translated_subsections/\""
   ]
  },
  {
   "cell_type": "markdown",
   "metadata": {},
   "source": [
    "## Retriever"
   ]
  },
  {
   "cell_type": "code",
   "execution_count": 8,
   "metadata": {},
   "outputs": [
    {
     "name": "stdout",
     "output_type": "stream",
     "text": [
      "We have 2 doc embeddings, each with a dimensionality of 384.\n"
     ]
    }
   ],
   "source": [
    "embed_model = HuggingFaceEmbeddings(\n",
    "    model_name=embed_model_id,\n",
    "    model_kwargs={'device': device},\n",
    "    encode_kwargs={'batch_size': 32, \"normalize_embeddings\": True, \"device\": device},\n",
    "    cache_folder=cache_dir\n",
    ")\n",
    "\n",
    "docs = [\n",
    "    \"this is one document\",\n",
    "    \"and another document\"\n",
    "]\n",
    "\n",
    "embeddings = embed_model.embed_documents(docs)\n",
    "\n",
    "print(\n",
    "    f\"We have {len(embeddings)} doc embeddings, each with \"\n",
    "    f\"a dimensionality of {len(embeddings[0])}.\"\n",
    ")"
   ]
  },
  {
   "cell_type": "code",
   "execution_count": 9,
   "metadata": {},
   "outputs": [],
   "source": [
    "from langchain.schema import Document\n",
    "from langchain.vectorstores import FAISS\n",
    "from langchain.embeddings.sentence_transformer import SentenceTransformerEmbeddings\n",
    "\n",
    "faiss_docs = []\n",
    "for filename in sorted(os.listdir(DOCUMENT_DIR)):\n",
    "    filepath = os.path.join(DOCUMENT_DIR, filename)\n",
    "    with open(filepath, \"r\", encoding=\"utf-8\") as f:\n",
    "        file_data = json.load(f)\n",
    "\n",
    "        # subsec = {\n",
    "        #     \"document_name\": name,\n",
    "        #     \"document_name_accent\": document_name_with_accent,\n",
    "        #     \"document_title\": title,\n",
    "        #     \"document_category\": category,\n",
    "        #     \"subsection_name\": subsection_name,\n",
    "        #     \"subsection_content\": subsection_content,\n",
    "            \n",
    "        #     \"subsection_name\": f\"{name}_{i}_{subsection_name}\",\n",
    "        #     \"subsection_title\": subsection_title,\n",
    "        #     \"subsection_data\": subsection_data,\n",
    "        # }\n",
    "\n",
    "        faiss_docs.append(Document(\n",
    "            page_content=file_data[\"subsection_data\"],\n",
    "            metadata={\n",
    "                \"filename\": filename,\n",
    "                \"filepath\": filepath,\n",
    "                \"document_name\": file_data[\"document_name\"],\n",
    "                \"document_name_accent\": file_data[\"document_name_accent\"],\n",
    "                \"document_title\": file_data[\"document_title\"],\n",
    "                \"document_category\": file_data[\"document_category\"],\n",
    "                \"subsection_name\": file_data[\"subsection_name\"],\n",
    "                \"subsection_title\": file_data[\"subsection_title\"],\n",
    "            }\n",
    "        ))\n",
    "\n",
    "embed_model = SentenceTransformerEmbeddings(\n",
    "    model_name=embed_model_id,\n",
    "    model_kwargs={'device': device},\n",
    "    encode_kwargs={'batch_size': 32, \"normalize_embeddings\": True, \"device\": device },\n",
    "    cache_folder=cache_dir\n",
    ")\n",
    "\n",
    "db = FAISS.from_documents(\n",
    "    documents=faiss_docs,\n",
    "    embedding=embed_model,\n",
    ")"
   ]
  },
  {
   "cell_type": "code",
   "execution_count": 10,
   "metadata": {},
   "outputs": [],
   "source": [
    "db.save_local(DB_SAVE_NAME)"
   ]
  },
  {
   "cell_type": "code",
   "execution_count": 12,
   "metadata": {},
   "outputs": [],
   "source": [
    "from langchain.vectorstores import FAISS\n",
    "from langchain.embeddings.sentence_transformer import SentenceTransformerEmbeddings\n",
    "\n",
    "device = 'cpu'\n",
    "embed_model = SentenceTransformerEmbeddings(\n",
    "    model_name=embed_model_id,\n",
    "    model_kwargs={'device': device},\n",
    "    encode_kwargs={'batch_size': 32, \"normalize_embeddings\": True, \"device\": device },\n",
    "    cache_folder=cache_dir\n",
    ")\n",
    "\n",
    "loaded_db = FAISS.load_local(\n",
    "    DB_SAVE_NAME,\n",
    "    embeddings=embed_model\n",
    ")"
   ]
  },
  {
   "cell_type": "code",
   "execution_count": 13,
   "metadata": {},
   "outputs": [
    {
     "data": {
      "text/plain": [
       "[Document(page_content=\"benh ho van tim.json. Common signs of heart valve regurgitation\\nHeart valve regurgitation has quite diverse symptoms, depending on the degree of regurgitation of the heart valve. With level 1/4 valve regurgitation, the patient has almost no symptoms and is very difficult to detect. Therefore, this condition is also called physiological valve regurgitation, and usually has little impact on health.\\nFrom level 2/4 valve regurgitation, patients may experience symptoms such as:\\nDifficulty breathing, especially when lying down or doing vigorous activities, there may be difficulty breathing at night.; Persistent fatigue even when inactive (reduced exercise tolerance).; Heart beats fast, palpitations continuously even when not active.; Dry cough, especially at night; Can't lie down with your head low.; Fainting.; Swollen ankles or feet.\\nChest pain and difficulty breathing are typical symptoms of a leaky heart valve\\nPatients with grade 2/4 valve regurgitation in the early stages often do not see obvious symptoms. When the level of valve regurgitation increases to 3/4, the disease progresses over many years, often symptoms or complications such as heart failure, arrhythmia, etc. will appear. The risk of heart failure in patients with valve regurgitation is at level 4/4. 4 is usually higher than the remaining 3 levels. In addition, patients at this level may also have arrhythmia, pulmonary edema, cardiogenic shock...\", metadata={'filename': 'benh-ho-van-tim_2.json', 'filepath': '../datasets/KALAPA_ByteBattles_2023_MEDICAL_Set1/translated_subsections/benh-ho-van-tim_2.json', 'document_name': 'benh-ho-van-tim.json', 'document_name_accent': 'benh ho van tim.json', 'document_title': 'Heart valve regurgitation: Causes, signs, treatment and prevention', 'document_category': 'Heart vascular', 'subsection_name': 'benh-ho-van-tim.json_2_Common signs of heart valve regurgitation', 'subsection_title': 'benh ho van tim.json. Common signs of heart valve regurgitation'})]"
      ]
     },
     "execution_count": 13,
     "metadata": {},
     "output_type": "execute_result"
    }
   ],
   "source": [
    "query = \"\"\"\n",
    "What are the symptoms of heart valve disease?\n",
    "A. Difficulty breathing\n",
    "B. Rapid weight gain\n",
    "C. Jaundice\n",
    "D. Hair loss\n",
    "\"\"\"\n",
    "\n",
    "result = loaded_db.similarity_search(query=query, k=1)\n",
    "result"
   ]
  },
  {
   "cell_type": "code",
   "execution_count": 14,
   "metadata": {},
   "outputs": [
    {
     "name": "stdout",
     "output_type": "stream",
     "text": [
      "benh ho van tim.json. Common signs of heart valve regurgitation\n",
      "Heart valve regurgitation has quite diverse symptoms, depending on the degree of regurgitation of the heart valve. With level 1/4 valve regurgitation, the patient has almost no symptoms and is very difficult to detect. Therefore, this condition is also called physiological valve regurgitation, and usually has little impact on health.\n",
      "From level 2/4 valve regurgitation, patients may experience symptoms such as:\n",
      "Difficulty breathing, especially when lying down or doing vigorous activities, there may be difficulty breathing at night.; Persistent fatigue even when inactive (reduced exercise tolerance).; Heart beats fast, palpitations continuously even when not active.; Dry cough, especially at night; Can't lie down with your head low.; Fainting.; Swollen ankles or feet.\n",
      "Chest pain and difficulty breathing are typical symptoms of a leaky heart valve\n",
      "Patients with grade 2/4 valve regurgitation in the early stages often do not see obvious symptoms. When the level of valve regurgitation increases to 3/4, the disease progresses over many years, often symptoms or complications such as heart failure, arrhythmia, etc. will appear. The risk of heart failure in patients with valve regurgitation is at level 4/4. 4 is usually higher than the remaining 3 levels. In addition, patients at this level may also have arrhythmia, pulmonary edema, cardiogenic shock...\n"
     ]
    }
   ],
   "source": [
    "context = result[0].page_content\n",
    "print(context)"
   ]
  },
  {
   "cell_type": "code",
   "execution_count": null,
   "metadata": {},
   "outputs": [],
   "source": []
  }
 ],
 "metadata": {
  "kernelspec": {
   "display_name": "base",
   "language": "python",
   "name": "python3"
  },
  "language_info": {
   "codemirror_mode": {
    "name": "ipython",
    "version": 3
   },
   "file_extension": ".py",
   "mimetype": "text/x-python",
   "name": "python",
   "nbconvert_exporter": "python",
   "pygments_lexer": "ipython3",
   "version": "3.11.4"
  },
  "orig_nbformat": 4
 },
 "nbformat": 4,
 "nbformat_minor": 2
}
